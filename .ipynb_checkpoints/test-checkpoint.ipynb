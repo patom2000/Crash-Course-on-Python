{
 "cells": [
  {
   "cell_type": "code",
   "execution_count": 1,
   "id": "b4e5529a-a54b-4bf0-80f7-dd528baec447",
   "metadata": {
    "tags": []
   },
   "outputs": [
    {
     "name": "stdout",
     "output_type": "stream",
     "text": [
      "Hi Taylor\n",
      "Hi Alex\n",
      "Hi Pat\n",
      "Hi Eli\n"
     ]
    }
   ],
   "source": [
    "friends = ['Taylor', 'Alex', 'Pat', 'Eli']\n",
    "for friend in friends:\n",
    "    print(\"Hi \" + friend)\n",
    "    "
   ]
  },
  {
   "cell_type": "code",
   "execution_count": null,
   "id": "5732e72b-debf-400c-8b88-d91b506f9624",
   "metadata": {},
   "outputs": [],
   "source": []
  }
 ],
 "metadata": {
  "kernelspec": {
   "display_name": "Python 3 (ipykernel)",
   "language": "python",
   "name": "python3"
  },
  "language_info": {
   "codemirror_mode": {
    "name": "ipython",
    "version": 3
   },
   "file_extension": ".py",
   "mimetype": "text/x-python",
   "name": "python",
   "nbconvert_exporter": "python",
   "pygments_lexer": "ipython3",
   "version": "3.10.10"
  }
 },
 "nbformat": 4,
 "nbformat_minor": 5
}
